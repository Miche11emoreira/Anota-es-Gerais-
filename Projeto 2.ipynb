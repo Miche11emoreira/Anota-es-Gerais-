{
  "nbformat": 4,
  "nbformat_minor": 0,
  "metadata": {
    "colab": {
      "provenance": [],
      "authorship_tag": "ABX9TyNzs9W+Ec0TZ4FgsmF4BwsV",
      "include_colab_link": true
    },
    "kernelspec": {
      "name": "python3",
      "display_name": "Python 3"
    },
    "language_info": {
      "name": "python"
    }
  },
  "cells": [
    {
      "cell_type": "markdown",
      "metadata": {
        "id": "view-in-github",
        "colab_type": "text"
      },
      "source": [
        "<a href=\"https://colab.research.google.com/github/Miche11emoreira/Anota-es-Gerais-/blob/main/Projeto%202.ipynb\" target=\"_parent\"><img src=\"https://colab.research.google.com/assets/colab-badge.svg\" alt=\"Open In Colab\"/></a>"
      ]
    },
    {
      "cell_type": "markdown",
      "source": [],
      "metadata": {
        "id": "H8LfcunaK_BU"
      }
    },
    {
      "cell_type": "code",
      "execution_count": null,
      "metadata": {
        "id": "XgPsleAU-4cT"
      },
      "outputs": [],
      "source": [
        "# Definindo uma lista vazia para armazenar as tarefas\n",
        "tarefas = []\n",
        "\n",
        "def cadastrar_tarefa():\n",
        "    descricao = input(\"Digite a descrição da tarefa: \")\n",
        "    data_vencimento = input(\"Digite a data de vencimento (formato: dd/mm/aaaa): \")\n",
        "    prioridade = input(\"Atribua uma prioridade (1 - Alta, 2 - Média, 3 - Baixa): \")\n",
        "\n",
        "    if prioridade not in ['1', '2', '3']:\n",
        "        print(\"Prioridade inválida. A tarefa não será cadastrada.\")\n",
        "        return\n",
        "\n",
        "    tarefa = {\n",
        "        'descricao': descricao,\n",
        "        'data_vencimento': data_vencimento,\n",
        "        'prioridade': int(prioridade)\n",
        "    }\n",
        "    tarefas.append(tarefa)\n",
        "    print(\"Tarefa cadastrada com sucesso!\")\n",
        "\n",
        "def listar_tarefas():\n",
        "    if not tarefas:\n",
        "        print(\"Não há tarefas cadastradas.\")\n",
        "    else:\n",
        "        print(\"Tarefas cadastradas:\")\n",
        "        for idx, tarefa in enumerate(tarefas):\n",
        "            print(f\"{idx + 1}. Descrição: {tarefa['descricao']}, Data de Vencimento: {tarefa['data_vencimento']}, Prioridade: {tarefa['prioridade']}\")\n",
        "\n",
        "def atualizar_tarefa():\n",
        "    listar_tarefas()\n",
        "    if not tarefas:\n",
        "        return\n",
        "\n",
        "    try:\n",
        "        numero_tarefa = int(input(\"Digite o número da tarefa que deseja atualizar: \")) - 1\n",
        "        if numero_tarefa < 0 or numero_tarefa >= len(tarefas):\n",
        "            print(\"Número de tarefa inválido.\")\n",
        "            return\n",
        "\n",
        "        nova_descricao = input(\"Nova descrição (deixe em branco para manter a mesma): \")\n",
        "        nova_data_vencimento = input(\"Nova data de vencimento (deixe em branco para manter a mesma): \")\n",
        "        nova_prioridade = input(\"Nova prioridade (deixe em branco para manter a mesma): \")\n",
        "\n",
        "        if nova_prioridade and nova_prioridade not in ['1', '2', '3']:\n",
        "            print(\"Prioridade inválida. A tarefa não será atualizada.\")\n",
        "            return\n",
        "\n",
        "        if nova_descricao:\n",
        "            tarefas[numero_tarefa]['descricao'] = nova_descricao\n",
        "        if nova_data_vencimento:\n",
        "            tarefas[numero_tarefa]['data_vencimento'] = nova_data_vencimento\n",
        "        if nova_prioridade:\n",
        "            tarefas[numero_tarefa]['prioridade'] = int(nova_prioridade)\n",
        "\n",
        "        print(\"Tarefa atualizada com sucesso!\")\n",
        "    except ValueError:\n",
        "        print(\"Número de tarefa inválido.\")\n",
        "\n",
        "def excluir_tarefa():\n",
        "    listar_tarefas()\n",
        "    if not tarefas:\n",
        "        return\n",
        "\n",
        "    try:\n",
        "        numero_tarefa = int(input(\"Digite o número da tarefa que deseja excluir: \")) - 1\n",
        "        if numero_tarefa < 0 or numero_tarefa >= len(tarefas):\n",
        "            print(\"Número de tarefa inválido.\")\n",
        "            return\n",
        "\n",
        "        tarefa_removida = tarefas.pop(numero_tarefa)\n",
        "        print(f\"Tarefa removida com sucesso: {tarefa_removida['descricao']}\")\n",
        "    except ValueError:\n",
        "        print(\"Número de tarefa inválido.\")\n",
        "\n",
        "while True:\n",
        "    print(\"\\nMenu:\")\n",
        "    print(\"1. Cadastrar Tarefa\")\n",
        "    print(\"2. Listar Tarefas\")\n",
        "    print(\"3. Atualizar Tarefa\")\n",
        "    print(\"4. Excluir Tarefa\")\n",
        "    print(\"5. Sair\")\n",
        "    opcao = input(\"Escolha uma opção: \")\n",
        "\n",
        "    if opcao == '1':\n",
        "        cadastrar_tarefa()\n",
        "    elif opcao == '2':\n",
        "        listar_tarefas()\n",
        "    elif opcao == '3':\n",
        "        atualizar_tarefa()\n",
        "    elif opcao == '4':\n",
        "        excluir_tarefa()\n",
        "    elif opcao == '5':\n",
        "        print(\"Saindo do aplicativo.\")\n",
        "        break\n",
        "    else:\n",
        "        print(\"Opção inválida. Tente novamente.\")\n"
      ]
    }
  ]
}